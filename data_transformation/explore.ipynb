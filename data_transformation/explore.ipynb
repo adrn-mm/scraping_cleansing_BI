{
 "cells": [
  {
   "cell_type": "code",
   "execution_count": 13,
   "metadata": {},
   "outputs": [],
   "source": [
    "import pandas as pd\n",
    "from lxml import etree\n",
    "import re"
   ]
  },
  {
   "cell_type": "code",
   "execution_count": 6,
   "metadata": {},
   "outputs": [
    {
     "name": "stderr",
     "output_type": "stream",
     "text": [
      "C:\\Users\\adrian.muhammad\\AppData\\Local\\Temp\\ipykernel_40700\\3145349296.py:1: FutureWarning: Passing literal xml to 'read_xml' is deprecated and will be removed in a future version. To read from a literal string, wrap it in a 'StringIO' object.\n",
      "  data = pd.read_xml('../web_scraping/scraped_data/web_scraping/scraped_data/scraped_data_2024-05-24_17-06-57/web_scraping/scraped_data/scraped_data_2024-05-24_17-06-57/Bali_ii04.xls')\n"
     ]
    },
    {
     "ename": "XMLSyntaxError",
     "evalue": "Start tag expected, '<' not found, line 1, column 1 (<string>, line 1)",
     "output_type": "error",
     "traceback": [
      "Traceback \u001b[1;36m(most recent call last)\u001b[0m:\n",
      "\u001b[0m  File \u001b[0;32mc:\\Users\\adrian.muhammad\\Desktop\\testing_cleansing_excel\\.venv\\lib\\site-packages\\IPython\\core\\interactiveshell.py:3577\u001b[0m in \u001b[0;35mrun_code\u001b[0m\n    exec(code_obj, self.user_global_ns, self.user_ns)\u001b[0m\n",
      "\u001b[0m  Cell \u001b[0;32mIn[6], line 1\u001b[0m\n    data = pd.read_xml('../web_scraping/scraped_data/web_scraping/scraped_data/scraped_data_2024-05-24_17-06-57/web_scraping/scraped_data/scraped_data_2024-05-24_17-06-57/Bali_ii04.xls')\u001b[0m\n",
      "\u001b[0m  File \u001b[0;32mc:\\Users\\adrian.muhammad\\Desktop\\testing_cleansing_excel\\.venv\\lib\\site-packages\\pandas\\io\\xml.py:1160\u001b[0m in \u001b[0;35mread_xml\u001b[0m\n    return _parse(\u001b[0m\n",
      "\u001b[0m  File \u001b[0;32mc:\\Users\\adrian.muhammad\\Desktop\\testing_cleansing_excel\\.venv\\lib\\site-packages\\pandas\\io\\xml.py:852\u001b[0m in \u001b[0;35m_parse\u001b[0m\n    data_dicts = p.parse_data()\u001b[0m\n",
      "\u001b[0m  File \u001b[0;32mc:\\Users\\adrian.muhammad\\Desktop\\testing_cleansing_excel\\.venv\\lib\\site-packages\\pandas\\io\\xml.py:556\u001b[0m in \u001b[0;35mparse_data\u001b[0m\n    self.xml_doc = self._parse_doc(self.path_or_buffer)\u001b[0m\n",
      "\u001b[0m  File \u001b[0;32mc:\\Users\\adrian.muhammad\\Desktop\\testing_cleansing_excel\\.venv\\lib\\site-packages\\pandas\\io\\xml.py:647\u001b[0m in \u001b[0;35m_parse_doc\u001b[0m\n    document = fromstring(\u001b[0m\n",
      "\u001b[0m  File \u001b[0;32msrc\\\\lxml\\\\etree.pyx:3307\u001b[0m in \u001b[0;35mlxml.etree.fromstring\u001b[0m\n",
      "\u001b[0m  File \u001b[0;32msrc\\\\lxml\\\\parser.pxi:1989\u001b[0m in \u001b[0;35mlxml.etree._parseMemoryDocument\u001b[0m\n",
      "\u001b[0m  File \u001b[0;32msrc\\\\lxml\\\\parser.pxi:1876\u001b[0m in \u001b[0;35mlxml.etree._parseDoc\u001b[0m\n",
      "\u001b[0m  File \u001b[0;32msrc\\\\lxml\\\\parser.pxi:1164\u001b[0m in \u001b[0;35mlxml.etree._BaseParser._parseDoc\u001b[0m\n",
      "\u001b[0m  File \u001b[0;32msrc\\\\lxml\\\\parser.pxi:633\u001b[0m in \u001b[0;35mlxml.etree._ParserContext._handleParseResultDoc\u001b[0m\n",
      "\u001b[0m  File \u001b[0;32msrc\\\\lxml\\\\parser.pxi:743\u001b[0m in \u001b[0;35mlxml.etree._handleParseResult\u001b[0m\n",
      "\u001b[1;36m  File \u001b[1;32msrc\\\\lxml\\\\parser.pxi:672\u001b[1;36m in \u001b[1;35mlxml.etree._raiseParseError\u001b[1;36m\n",
      "\u001b[1;36m  File \u001b[1;32m<string>:1\u001b[1;36m\u001b[0m\n\u001b[1;31mXMLSyntaxError\u001b[0m\u001b[1;31m:\u001b[0m Start tag expected, '<' not found, line 1, column 1\n"
     ]
    }
   ],
   "source": [
    "data = pd.read_xml('../web_scraping/scraped_data/web_scraping/scraped_data/scraped_data_2024-05-24_17-06-57/web_scraping/scraped_data/scraped_data_2024-05-24_17-06-57/Bali_ii04.xls')"
   ]
  },
  {
   "cell_type": "code",
   "execution_count": 15,
   "metadata": {},
   "outputs": [],
   "source": [
    "# Read the file as text\n",
    "with open('../web_scraping/scraped_data/scraped_data_2024-05-24_17-06-57/Bali_ii04.xls', 'r') as f:\n",
    "    text = f.read()\n",
    "\n",
    "# Use a regular expression to extract the data you need\n",
    "# This is just an example, you'll need to adjust the regular expression to match your data\n",
    "data = re.findall(r'<tag>(.*?)</tag>', text)\n",
    "\n",
    "# Now 'data' is a list of the text between <tag> and </tag> in the file\n",
    "for item in data:\n",
    "    print(item)"
   ]
  },
  {
   "cell_type": "code",
   "execution_count": 16,
   "metadata": {},
   "outputs": [
    {
     "data": {
      "text/plain": [
       "[]"
      ]
     },
     "execution_count": 16,
     "metadata": {},
     "output_type": "execute_result"
    }
   ],
   "source": [
    "data"
   ]
  }
 ],
 "metadata": {
  "kernelspec": {
   "display_name": ".venv",
   "language": "python",
   "name": "python3"
  },
  "language_info": {
   "codemirror_mode": {
    "name": "ipython",
    "version": 3
   },
   "file_extension": ".py",
   "mimetype": "text/x-python",
   "name": "python",
   "nbconvert_exporter": "python",
   "pygments_lexer": "ipython3",
   "version": "3.10.11"
  }
 },
 "nbformat": 4,
 "nbformat_minor": 2
}
